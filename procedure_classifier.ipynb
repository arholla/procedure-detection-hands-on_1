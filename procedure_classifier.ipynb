{
 "metadata": {
  "language_info": {
   "codemirror_mode": {
    "name": "ipython",
    "version": 3
   },
   "file_extension": ".py",
   "mimetype": "text/x-python",
   "name": "python",
   "nbconvert_exporter": "python",
   "pygments_lexer": "ipython3",
   "version": "3.8.5-final"
  },
  "orig_nbformat": 2,
  "kernelspec": {
   "name": "python3",
   "display_name": "Python 3.8.5 64-bit ('procedure_det': conda)",
   "metadata": {
    "interpreter": {
     "hash": "4d83f2824dc1cb43aeaedf9feae7e4887829005d749a2c755ba5d31b1bd5b2cf"
    }
   }
  }
 },
 "nbformat": 4,
 "nbformat_minor": 2,
 "cells": [
  {
   "source": [
    "# Binary Classification \n",
    "\n",
    "Now that we all the features for all the data/lists extracted from libre help and ubuntu help, let us classify them into procedures and non-procedures."
   ],
   "cell_type": "markdown",
   "metadata": {}
  },
  {
   "cell_type": "code",
   "execution_count": 1,
   "metadata": {},
   "outputs": [],
   "source": [
    "import pandas as pd\n",
    "import numpy as np\n",
    "import pickle\n",
    "from sklearn.svm import SVC\n",
    "from sklearn.ensemble import RandomForestClassifier\n",
    "from sklearn.model_selection import cross_val_score, cross_val_predict, train_test_split, StratifiedShuffleSplit\n",
    "from sklearn.preprocessing import normalize\n",
    "from sklearn.metrics import accuracy_score, precision_score, recall_score, precision_recall_curve, f1_score\n",
    "\n",
    "DATA_PATH = 'data'"
   ]
  },
  {
   "cell_type": "code",
   "execution_count": 2,
   "metadata": {},
   "outputs": [],
   "source": [
    "df = pd.read_csv(os.path.join(DATA_PATH, 'dense_features_train_procedures.csv'), encoding='utf-8')"
   ]
  },
  {
   "cell_type": "code",
   "execution_count": 3,
   "metadata": {},
   "outputs": [],
   "source": [
    "feat = df[['Sents-No Subject', 'Sents-Starts with Verb', 'Avg Length', 'Gerunds', 'Infinitives']].values\n",
    "labels = df['Labels']"
   ]
  },
  {
   "cell_type": "code",
   "execution_count": 4,
   "metadata": {},
   "outputs": [],
   "source": [
    "clf = RandomForestClassifier(n_estimators=100)\n",
    "N = 50"
   ]
  },
  {
   "source": [
    "We will evaluate our model with cross-validation. Since our dataset is class-imbalanced we will use StratifiedKFold. The folds are made by preserving the percentage of samples for each class."
   ],
   "cell_type": "markdown",
   "metadata": {}
  },
  {
   "cell_type": "code",
   "execution_count": 5,
   "metadata": {},
   "outputs": [
    {
     "output_type": "execute_result",
     "data": {
      "text/plain": [
       "array([0.89705882, 0.83823529, 0.80882353, 0.86764706, 0.85294118])"
      ]
     },
     "metadata": {},
     "execution_count": 5
    }
   ],
   "source": [
    "skf = StratifiedShuffleSplit(n_splits=5, random_state=42)\n",
    "scores = cross_val_score(clf, feat, labels, cv=skf)\n",
    "scores"
   ]
  },
  {
   "cell_type": "code",
   "execution_count": 8,
   "metadata": {},
   "outputs": [],
   "source": [
    "test_df = pd.read_csv(os.path.join(DATA_PATH, 'dense_features_test_procedures.csv'), encoding='utf-8')\n",
    "X_test = df[['Sents-No Subject', 'Sents-Starts with Verb', 'Avg Length', 'Gerunds', 'Infinitives']].values\n",
    "y_test = test_df['Labels']"
   ]
  },
  {
   "cell_type": "code",
   "execution_count": 9,
   "metadata": {},
   "outputs": [
    {
     "output_type": "stream",
     "name": "stdout",
     "text": [
      "[1 0 1 0 1 0 0 1 0 1 1 0 1 1 0 1 0 1 0 0 1 1 0 1 1 1 0 1 1 1 1 0 0 0 1 1 1\n 0 0 1 0 1 1 0 0 1 1 1 1 0 0 0 1 0 0 1 0 0 1 0 0 1 0 1 1 1 0 0 1 0 1 0 1 1\n 1 0 1 1 1 1 0 0 1 1 0 1 0 1 1 1 1 1 1 1 0 1 0 1 1 1 0 0 1 1 0 0 1 1 1 0 0\n 1 1 1 1 1 0 1 0 1 1 1 0 1 0 1 0 0 1 0 0 1 0 1 0 1 1 0 0 0 0 1 1 0 0 1 0 0\n 1 1 0 1 1 1 0 0 1 0 1 0 1 0 1 1 0 0 0 1 1 0 1 1 1 1 1 1 1 1 1 0 0 1 0 0 1\n 0 1 0 1 1 1 1 1 1 1 0 0 0 1 1 1 1 1 1 1 1 1 0 1 1 1 1 0 0 1 1 1 1 1 1 1 0\n 0 1 1 1 0 1 1 1 1 1 0 1 0 1 0 0 0 0 1 1 1 1 1 1 1 1 1 1 0 1 1 1 1 0 1 1 1\n 1 1 1 0 0 0 1 0 1 1 1 1 0 1 0 1 1 1 0 0 1 1 1 0 1 0 0 1 0 1 1 1 1 0 0 0 1\n 0 0 1 0 0 1 1 0 1 1 1 0 0 1 0 0 1 1 1 1 0 1 0 1 1 0 1 1 1 1 1 1 1 1 1 1 0\n 0 1 0 1 0 0 0 0 1 1 1 1 1 1 1 0 1 0 1 0 0 0 1 1 0 0 1 0 1 1 1 0 1 0 1 1 1\n 1 0 1 0 1 1 0 0 1 1 0 1 1 1 1 1 1 0 1 1 1 1 1 1 0 1 0 0 1 0 0 1 0 1 1 0 0\n 1 1 1 0 1 0 1 1 0 0 0 0 1 1 1 1 1 1 1 0 1 0 1 1 1 0 1 1 1 1 0 1 0 1 1 1 1\n 0 1 0 1 1 1 0 1 1 1 1 1 0 0 1 1 0 1 1 0 0 1 0 1 1 1 1 0 1 1 1 1 1 1 1 1 1\n 1 1 0 1 0 0 1 0 1 1 1 1 0 1 1 1 1 0 1 0 0 0 1 1 0 1 0 1 1 0 1 1 0 1 0 1 1\n 1 1 0 1 0 1 0 0 1 0 0 1 1 0 1 0 1 0 0 1 1 1 1 0 1 0 0 1 0 1 1 1 1 0 1 1 0\n 0 1 1 1 1 0 1 1 1 1 1 1 0 1 0 1 1 0 1 0 0 1 1 1 0 1 0 1 0 0 0 1 0 1 1 1 1\n 1 1 0 0 1 0 1 0 0 1 1 0 0 0 1 0 0 1 1 0 1 0 1 1 1 1 1 1 1 0 0 1 0 0 1 0 1\n 0 1 0 0 0 1 1 1 1 1 1 0 1 0 0 1 1 1 1 1 1 0 1 0 1 1 1 0 1 0 1 1 0 1 1 1 1\n 0 0 1 0 0 1 0 0 1 0 1]\nTest accuracy: 0.9896602658788775 F1 Score: 0.9916765755053508\n"
     ]
    }
   ],
   "source": [
    "clf.fit(feat, labels)\n",
    "pickle.dump(clf, open('classify_proc.pkl','wb'), protocol=2)\n",
    "clf = pickle.load(open('classify_proc.pkl', 'rb'))\n",
    "y_predict = clf.predict(X_test)\n",
    "print (y_predict)\n",
    "test_acc = accuracy_score(y_test, y_predict)\n",
    "print ('Test accuracy:', test_acc, 'F1 Score:', f1_score(y_test, y_predict))"
   ]
  },
  {
   "cell_type": "code",
   "execution_count": null,
   "metadata": {},
   "outputs": [],
   "source": []
  }
 ]
}