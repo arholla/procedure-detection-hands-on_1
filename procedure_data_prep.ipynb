{
 "metadata": {
  "language_info": {
   "codemirror_mode": {
    "name": "ipython",
    "version": 3
   },
   "file_extension": ".py",
   "mimetype": "text/x-python",
   "name": "python",
   "nbconvert_exporter": "python",
   "pygments_lexer": "ipython3",
   "version": "3.8.5-final"
  },
  "orig_nbformat": 2,
  "kernelspec": {
   "name": "python3",
   "display_name": "Python 3.8.5 64-bit ('procedure_det': conda)",
   "metadata": {
    "interpreter": {
     "hash": "4d83f2824dc1cb43aeaedf9feae7e4887829005d749a2c755ba5d31b1bd5b2cf"
    }
   }
  }
 },
 "nbformat": 4,
 "nbformat_minor": 2,
 "cells": [
  {
   "source": [
    "# Data Preparation\n",
    "\n",
    "Datasets provided for procedure detection are content from --\n",
    "- 1. Libre help - help.libreoffice.org\n",
    "- 2. Ubuntu help - help.ubuntu.com"
   ],
   "cell_type": "markdown",
   "metadata": {}
  },
  {
   "cell_type": "code",
   "execution_count": 3,
   "metadata": {},
   "outputs": [],
   "source": [
    "import pandas as pd\n",
    "import re\n",
    "import html\n",
    "import os\n",
    "\n",
    "DATA_PATH = 'data'"
   ]
  },
  {
   "source": [
    "libre_df  =pd.read_csv(os.path.join(DATA_PATH, \"libre_help_lists.csv\"))\n",
    "\n",
    "libre_df.head()"
   ],
   "cell_type": "code",
   "metadata": {},
   "execution_count": 4,
   "outputs": [
    {
     "output_type": "execute_result",
     "data": {
      "text/plain": [
       "   Unnamed: 0                                       Page_title  \\\n",
       "0           0  creating numbered or bulleted lists as you type   \n",
       "1           1  creating numbered or bulleted lists as you type   \n",
       "2           2                         changing page background   \n",
       "3           3                         changing page background   \n",
       "4           4                         changing page background   \n",
       "\n",
       "                                            Subtitle  \\\n",
       "0        to enable automatic numbering and bulleting   \n",
       "1  to create a numbered or bulleted list while yo...   \n",
       "2                      to change the page background   \n",
       "3  to use different page backgrounds in the same ...   \n",
       "4                      to change the page background   \n",
       "\n",
       "                                               Lists  \\\n",
       "0  choose tools - autocorrect - autocorrect optio...   \n",
       "1  type 1., i., or i. to start a numbered list. t...   \n",
       "2  to only apply the new page style to a single p...   \n",
       "3  to change the background of the current page o...   \n",
       "4  choose view - styles . <st> click the page sty...   \n",
       "\n",
       "                                             Context  List_tags  \n",
       "0  libreoffice can automatically apply numbering ...          1  \n",
       "1                                                NaN          1  \n",
       "2                                         next style          1  \n",
       "3                                              style          1  \n",
       "4  libreoffice uses page styles to specify the ba...          1  "
      ],
      "text/html": "<div>\n<style scoped>\n    .dataframe tbody tr th:only-of-type {\n        vertical-align: middle;\n    }\n\n    .dataframe tbody tr th {\n        vertical-align: top;\n    }\n\n    .dataframe thead th {\n        text-align: right;\n    }\n</style>\n<table border=\"1\" class=\"dataframe\">\n  <thead>\n    <tr style=\"text-align: right;\">\n      <th></th>\n      <th>Unnamed: 0</th>\n      <th>Page_title</th>\n      <th>Subtitle</th>\n      <th>Lists</th>\n      <th>Context</th>\n      <th>List_tags</th>\n    </tr>\n  </thead>\n  <tbody>\n    <tr>\n      <th>0</th>\n      <td>0</td>\n      <td>creating numbered or bulleted lists as you type</td>\n      <td>to enable automatic numbering and bulleting</td>\n      <td>choose tools - autocorrect - autocorrect optio...</td>\n      <td>libreoffice can automatically apply numbering ...</td>\n      <td>1</td>\n    </tr>\n    <tr>\n      <th>1</th>\n      <td>1</td>\n      <td>creating numbered or bulleted lists as you type</td>\n      <td>to create a numbered or bulleted list while yo...</td>\n      <td>type 1., i., or i. to start a numbered list. t...</td>\n      <td>NaN</td>\n      <td>1</td>\n    </tr>\n    <tr>\n      <th>2</th>\n      <td>2</td>\n      <td>changing page background</td>\n      <td>to change the page background</td>\n      <td>to only apply the new page style to a single p...</td>\n      <td>next style</td>\n      <td>1</td>\n    </tr>\n    <tr>\n      <th>3</th>\n      <td>3</td>\n      <td>changing page background</td>\n      <td>to use different page backgrounds in the same ...</td>\n      <td>to change the background of the current page o...</td>\n      <td>style</td>\n      <td>1</td>\n    </tr>\n    <tr>\n      <th>4</th>\n      <td>4</td>\n      <td>changing page background</td>\n      <td>to change the page background</td>\n      <td>choose view - styles . &lt;st&gt; click the page sty...</td>\n      <td>libreoffice uses page styles to specify the ba...</td>\n      <td>1</td>\n    </tr>\n  </tbody>\n</table>\n</div>"
     },
     "metadata": {},
     "execution_count": 4
    }
   ]
  },
  {
   "cell_type": "code",
   "execution_count": 5,
   "metadata": {},
   "outputs": [
    {
     "output_type": "execute_result",
     "data": {
      "text/plain": [
       "   Unnamed: 0                      Page_title  \\\n",
       "0           0   How do I calibrate my camera?   \n",
       "1           1   How do I calibrate my camera?   \n",
       "2           3       Control location services   \n",
       "3           4  Files list columns preferences   \n",
       "4           5  Files list columns preferences   \n",
       "\n",
       "                                            Subtitle  \\\n",
       "0                                   More Information   \n",
       "1                                           See Also   \n",
       "2  Turn off the geolocation features of your desktop   \n",
       "3                     Files list columns preferences   \n",
       "4                     Files list columns preferences   \n",
       "\n",
       "                                               Lists  \\\n",
       "0                                        Calibration   \n",
       "1  How do I calibrate my printer? — Calibrating y...   \n",
       "2  Open the Activities overview and\\r\\n      star...   \n",
       "3  The first character is the file type. - means ...   \n",
       "4  r : readable, meaning that you can open the fi...   \n",
       "\n",
       "                                             Context  List_tags  \n",
       "0                                   More Information          0  \n",
       "1                                           See Also          0  \n",
       "2  Turn off the geolocation features of your desktop          1  \n",
       "3                                         drwxrw-r--          0  \n",
       "4        Each permission has the following meanings:          0  "
      ],
      "text/html": "<div>\n<style scoped>\n    .dataframe tbody tr th:only-of-type {\n        vertical-align: middle;\n    }\n\n    .dataframe tbody tr th {\n        vertical-align: top;\n    }\n\n    .dataframe thead th {\n        text-align: right;\n    }\n</style>\n<table border=\"1\" class=\"dataframe\">\n  <thead>\n    <tr style=\"text-align: right;\">\n      <th></th>\n      <th>Unnamed: 0</th>\n      <th>Page_title</th>\n      <th>Subtitle</th>\n      <th>Lists</th>\n      <th>Context</th>\n      <th>List_tags</th>\n    </tr>\n  </thead>\n  <tbody>\n    <tr>\n      <th>0</th>\n      <td>0</td>\n      <td>How do I calibrate my camera?</td>\n      <td>More Information</td>\n      <td>Calibration</td>\n      <td>More Information</td>\n      <td>0</td>\n    </tr>\n    <tr>\n      <th>1</th>\n      <td>1</td>\n      <td>How do I calibrate my camera?</td>\n      <td>See Also</td>\n      <td>How do I calibrate my printer? — Calibrating y...</td>\n      <td>See Also</td>\n      <td>0</td>\n    </tr>\n    <tr>\n      <th>2</th>\n      <td>3</td>\n      <td>Control location services</td>\n      <td>Turn off the geolocation features of your desktop</td>\n      <td>Open the Activities overview and\\r\\n      star...</td>\n      <td>Turn off the geolocation features of your desktop</td>\n      <td>1</td>\n    </tr>\n    <tr>\n      <th>3</th>\n      <td>4</td>\n      <td>Files list columns preferences</td>\n      <td>Files list columns preferences</td>\n      <td>The first character is the file type. - means ...</td>\n      <td>drwxrw-r--</td>\n      <td>0</td>\n    </tr>\n    <tr>\n      <th>4</th>\n      <td>5</td>\n      <td>Files list columns preferences</td>\n      <td>Files list columns preferences</td>\n      <td>r : readable, meaning that you can open the fi...</td>\n      <td>Each permission has the following meanings:</td>\n      <td>0</td>\n    </tr>\n  </tbody>\n</table>\n</div>"
     },
     "metadata": {},
     "execution_count": 5
    }
   ],
   "source": [
    "ubuntu_df = pd.read_csv(os.path.join(DATA_PATH, \"ubuntu_help_lists.csv\"))\n",
    "ubuntu_df.head()"
   ]
  },
  {
   "cell_type": "code",
   "execution_count": 6,
   "metadata": {},
   "outputs": [
    {
     "output_type": "execute_result",
     "data": {
      "text/plain": [
       "(550, 457)"
      ]
     },
     "metadata": {},
     "execution_count": 6
    }
   ],
   "source": [
    "len(libre_df) , len(ubuntu_df)"
   ]
  },
  {
   "source": [
    "Let's clean-up the text content in both the files. We are mostly interested in the columns 'Subtitle' and 'Lists'. We will remove all the extra and unwanted characters from the text. We will also remove any list which is less than 50 characters in length.\n",
    " "
   ],
   "cell_type": "markdown",
   "metadata": {}
  },
  {
   "cell_type": "code",
   "execution_count": 7,
   "metadata": {},
   "outputs": [],
   "source": [
    "def fixup(x):\n",
    "    if isinstance(x, str):\n",
    "        x = x.replace('\\u2019', \"'\").replace('\\xa0', ' ').replace('\\u201c',\"'\").replace('\\u201d',\"'\")\n",
    "        x = re.sub(r\"[{\\[\\]}/&*%$#@\\']\", \"\", x)\n",
    "        x = html.unescape(x.strip())\n",
    "        return x\n",
    "    else: \n",
    "        x=''\n",
    "        return x\n",
    "\n",
    "def fixup_lists(x):\n",
    "    if fixup(x) and len(x)>50:\n",
    "        return x"
   ]
  },
  {
   "cell_type": "code",
   "execution_count": 8,
   "metadata": {},
   "outputs": [],
   "source": [
    "fixup_lists(\"Calibration\")"
   ]
  },
  {
   "cell_type": "code",
   "execution_count": 9,
   "metadata": {},
   "outputs": [],
   "source": [
    "libre_lists = pd.DataFrame({'Subtitle': libre_df['Subtitle'].apply(fixup), 'Lists': libre_df['Lists'].apply(fixup_lists), 'Labels': libre_df['List_tags']})\n",
    "ubuntu_lists = pd.DataFrame({'Subtitle': ubuntu_df['Subtitle'].apply(fixup), 'Lists': ubuntu_df['Lists'].apply(fixup_lists), 'Labels': ubuntu_df['List_tags']})"
   ]
  },
  {
   "cell_type": "code",
   "execution_count": 10,
   "metadata": {},
   "outputs": [
    {
     "output_type": "execute_result",
     "data": {
      "text/plain": [
       "(550, 457)"
      ]
     },
     "metadata": {},
     "execution_count": 10
    }
   ],
   "source": [
    "len(libre_lists) , len(ubuntu_lists)"
   ]
  },
  {
   "cell_type": "code",
   "execution_count": 11,
   "metadata": {},
   "outputs": [],
   "source": [
    "libre_lists.dropna(subset=['Lists'], inplace=True)\n",
    "ubuntu_lists.dropna(subset=['Lists'], inplace=True)"
   ]
  },
  {
   "cell_type": "code",
   "execution_count": 12,
   "metadata": {},
   "outputs": [
    {
     "output_type": "execute_result",
     "data": {
      "text/plain": [
       "(546, 388)"
      ]
     },
     "metadata": {},
     "execution_count": 12
    }
   ],
   "source": [
    "len(libre_lists) , len(ubuntu_lists)"
   ]
  },
  {
   "cell_type": "code",
   "execution_count": 13,
   "metadata": {},
   "outputs": [],
   "source": [
    "libre_lists.drop_duplicates(subset=['Lists'], inplace=True)\n",
    "ubuntu_lists.drop_duplicates(subset=['Lists'], inplace=True)"
   ]
  },
  {
   "cell_type": "code",
   "execution_count": 14,
   "metadata": {},
   "outputs": [
    {
     "output_type": "execute_result",
     "data": {
      "text/plain": [
       "(546, 301)"
      ]
     },
     "metadata": {},
     "execution_count": 14
    }
   ],
   "source": [
    "len(libre_lists) , len(ubuntu_lists)"
   ]
  },
  {
   "cell_type": "code",
   "execution_count": 15,
   "metadata": {},
   "outputs": [
    {
     "output_type": "execute_result",
     "data": {
      "text/plain": [
       "        Subtitle  Lists\n",
       "Labels                 \n",
       "0            137    137\n",
       "1            409    409"
      ],
      "text/html": "<div>\n<style scoped>\n    .dataframe tbody tr th:only-of-type {\n        vertical-align: middle;\n    }\n\n    .dataframe tbody tr th {\n        vertical-align: top;\n    }\n\n    .dataframe thead th {\n        text-align: right;\n    }\n</style>\n<table border=\"1\" class=\"dataframe\">\n  <thead>\n    <tr style=\"text-align: right;\">\n      <th></th>\n      <th>Subtitle</th>\n      <th>Lists</th>\n    </tr>\n    <tr>\n      <th>Labels</th>\n      <th></th>\n      <th></th>\n    </tr>\n  </thead>\n  <tbody>\n    <tr>\n      <th>0</th>\n      <td>137</td>\n      <td>137</td>\n    </tr>\n    <tr>\n      <th>1</th>\n      <td>409</td>\n      <td>409</td>\n    </tr>\n  </tbody>\n</table>\n</div>"
     },
     "metadata": {},
     "execution_count": 15
    }
   ],
   "source": [
    "libre_lists.groupby(['Labels']).count()"
   ]
  },
  {
   "cell_type": "code",
   "execution_count": 16,
   "metadata": {},
   "outputs": [
    {
     "output_type": "execute_result",
     "data": {
      "text/plain": [
       "        Subtitle  Lists\n",
       "Labels                 \n",
       "0            168    168\n",
       "1            133    133"
      ],
      "text/html": "<div>\n<style scoped>\n    .dataframe tbody tr th:only-of-type {\n        vertical-align: middle;\n    }\n\n    .dataframe tbody tr th {\n        vertical-align: top;\n    }\n\n    .dataframe thead th {\n        text-align: right;\n    }\n</style>\n<table border=\"1\" class=\"dataframe\">\n  <thead>\n    <tr style=\"text-align: right;\">\n      <th></th>\n      <th>Subtitle</th>\n      <th>Lists</th>\n    </tr>\n    <tr>\n      <th>Labels</th>\n      <th></th>\n      <th></th>\n    </tr>\n  </thead>\n  <tbody>\n    <tr>\n      <th>0</th>\n      <td>168</td>\n      <td>168</td>\n    </tr>\n    <tr>\n      <th>1</th>\n      <td>133</td>\n      <td>133</td>\n    </tr>\n  </tbody>\n</table>\n</div>"
     },
     "metadata": {},
     "execution_count": 16
    }
   ],
   "source": [
    "ubuntu_lists.groupby(['Labels']).count()"
   ]
  },
  {
   "cell_type": "code",
   "execution_count": 17,
   "metadata": {},
   "outputs": [
    {
     "output_type": "execute_result",
     "data": {
      "text/plain": [
       "847"
      ]
     },
     "metadata": {},
     "execution_count": 17
    }
   ],
   "source": [
    "list_data = pd.concat([libre_lists, ubuntu_lists], ignore_index=True)\n",
    "len(list_data)"
   ]
  },
  {
   "cell_type": "code",
   "execution_count": 18,
   "metadata": {},
   "outputs": [
    {
     "output_type": "execute_result",
     "data": {
      "text/plain": [
       "        Subtitle  Lists\n",
       "Labels                 \n",
       "0            305    305\n",
       "1            542    542"
      ],
      "text/html": "<div>\n<style scoped>\n    .dataframe tbody tr th:only-of-type {\n        vertical-align: middle;\n    }\n\n    .dataframe tbody tr th {\n        vertical-align: top;\n    }\n\n    .dataframe thead th {\n        text-align: right;\n    }\n</style>\n<table border=\"1\" class=\"dataframe\">\n  <thead>\n    <tr style=\"text-align: right;\">\n      <th></th>\n      <th>Subtitle</th>\n      <th>Lists</th>\n    </tr>\n    <tr>\n      <th>Labels</th>\n      <th></th>\n      <th></th>\n    </tr>\n  </thead>\n  <tbody>\n    <tr>\n      <th>0</th>\n      <td>305</td>\n      <td>305</td>\n    </tr>\n    <tr>\n      <th>1</th>\n      <td>542</td>\n      <td>542</td>\n    </tr>\n  </tbody>\n</table>\n</div>"
     },
     "metadata": {},
     "execution_count": 18
    }
   ],
   "source": [
    "list_data.groupby(['Labels']).count()"
   ]
  },
  {
   "source": [
    "We need to note that our data is imbalanced and we need to take a note of these while analysing our results (like accuracy, etc)"
   ],
   "cell_type": "markdown",
   "metadata": {}
  },
  {
   "cell_type": "code",
   "execution_count": 19,
   "metadata": {},
   "outputs": [
    {
     "output_type": "execute_result",
     "data": {
      "text/plain": [
       "0.6399055489964581"
      ]
     },
     "metadata": {},
     "execution_count": 19
    }
   ],
   "source": [
    "baseline = len(list_data[list_data['Labels']==1])/len(list_data)\n",
    "baseline"
   ]
  },
  {
   "cell_type": "code",
   "execution_count": 20,
   "metadata": {},
   "outputs": [],
   "source": [
    "list_data.to_csv(os.path.join(DATA_PATH, \"procedure_data.csv\"))"
   ]
  },
  {
   "source": [
    "Let us divide the data into train and test split."
   ],
   "cell_type": "markdown",
   "metadata": {}
  },
  {
   "cell_type": "code",
   "execution_count": 21,
   "metadata": {},
   "outputs": [],
   "source": [
    "from sklearn.model_selection import train_test_split\n",
    "\n",
    "X_train, X_test, y_train, y_test  = train_test_split(list_data['Lists'], list_data['Labels'], test_size=0.2, random_state=42)\n",
    "\n",
    "train_df = pd.DataFrame({'Lists': X_train, 'Labels': y_train})\n",
    "test_df = pd.DataFrame({'Lists': X_test, 'Labels': y_test})\n",
    "\n",
    "train_df.to_csv(os.path.join(DATA_PATH, 'procedure_train_data.csv'))\n",
    "test_df.to_csv(os.path.join(DATA_PATH, 'procedure_test_data.csv'))"
   ]
  },
  {
   "cell_type": "code",
   "execution_count": 22,
   "metadata": {},
   "outputs": [
    {
     "output_type": "execute_result",
     "data": {
      "text/plain": [
       "(677, 170)"
      ]
     },
     "metadata": {},
     "execution_count": 22
    }
   ],
   "source": [
    "len(train_df), len(test_df)"
   ]
  },
  {
   "cell_type": "code",
   "execution_count": 23,
   "metadata": {},
   "outputs": [],
   "source": [
    "train_lines = [\"__label__\"+str(y)+' '+x for y,x in zip(y_train, X_train)]\n",
    "test_lines = [\"__label__\"+str(y)+' '+x for y,x in zip(y_test, X_test)]\n",
    "\n",
    "with open(os.path.join(DATA_PATH, 'procedure_data.train.txt'), 'w', encoding=\"utf-8\") as f:\n",
    "    for item in train_lines:\n",
    "        f.write(\"%s\\n\" % item)\n",
    "with open(os.path.join(DATA_PATH, 'procedure_data.test.txt'), 'w', encoding=\"utf-8\") as f:\n",
    "    for item in test_lines:\n",
    "        f.write(\"%s\\n\" % item)"
   ]
  },
  {
   "cell_type": "code",
   "execution_count": 24,
   "metadata": {},
   "outputs": [],
   "source": [
    "with open(os.path.join(DATA_PATH, 'procedure_data.txt'), 'w', encoding=\"utf-8\") as f:\n",
    "    for x,y in zip(list_data['Lists'], list_data['Labels']):\n",
    "        f.write(\"__label__\"+str(y)+' '+ x + \"\\n\")"
   ]
  },
  {
   "cell_type": "code",
   "execution_count": null,
   "metadata": {},
   "outputs": [],
   "source": []
  }
 ]
}